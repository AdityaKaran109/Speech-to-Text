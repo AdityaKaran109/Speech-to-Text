{
 "cells": [
  {
   "cell_type": "code",
   "execution_count": null,
   "id": "ab9ac812",
   "metadata": {},
   "outputs": [],
   "source": [
    "#!pip install SpeechRecognition\n",
    "#!pip install fpdf\n",
    "#!pip install pyaudio"
   ]
  },
  {
   "cell_type": "code",
   "execution_count": null,
   "id": "43b5ebd9",
   "metadata": {
    "scrolled": true
   },
   "outputs": [],
   "source": [
    "import speech_recognition as sr\n",
    "from datetime import datetime\n",
    "from fpdf import FPDF\n",
    "import warnings\n",
    "warnings.simplefilter(action='ignore', category=FutureWarning)\n"
   ]
  },
  {
   "cell_type": "code",
   "execution_count": null,
   "id": "af41aae3",
   "metadata": {},
   "outputs": [],
   "source": [
    "# Initializing the recognizer\n",
    "r = sr.Recognizer()"
   ]
  },
  {
   "cell_type": "code",
   "execution_count": null,
   "id": "2f75dbd9",
   "metadata": {},
   "outputs": [],
   "source": [
    "# Setting the microphone as source\n",
    "with sr.Microphone() as source:\n",
    "\n",
    "    # Setting the energy threshold for ambient noise\n",
    "    r.adjust_for_ambient_noise(source)\n",
    "\n",
    "    # Starting the note-taking loop\n",
    "    while True:\n",
    "        \n",
    "        # Listening to the speech input\n",
    "        print(\"Say something!\")\n",
    "        audio = r.listen(source, phrase_time_limit=5)\n",
    "\n",
    "        try:\n",
    "            # Converting speech to text\n",
    "            text = r.recognize_google(audio)\n",
    "            \n",
    "            # Checking if the note should start\n",
    "            if text.lower() == \"make a note\":\n",
    "                print(\"Note started...\")\n",
    "                \n",
    "                # Starting to record the note\n",
    "                note = \"\"\n",
    "                bullet_point = 0\n",
    "                \n",
    "                # Looping to listen to speech input and add to the note\n",
    "                while True:\n",
    "                    \n",
    "                    # Listening to the speech input\n",
    "                    print(\"Listening...\")\n",
    "                    audio = r.listen(source, phrase_time_limit=5)\n",
    "                    \n",
    "                    try:\n",
    "                        # Converting speech to text\n",
    "                        text = r.recognize_google(audio)\n",
    "                        print(text)\n",
    "                        \n",
    "                        # Checking if the note should end\n",
    "                        if \"stop listening\" in text.lower():\n",
    "                            print(\"Note ended.\")\n",
    "                            break\n",
    "                        \n",
    "                        # Adding the speech input to the note as a bullet point\n",
    "                        note += str(bullet_point) + \". \" + text + \"\\n\"\n",
    "                        bullet_point += 1\n",
    "                        \n",
    "                    except sr.UnknownValueError:\n",
    "                        print(\"Could not understand audio\")\n",
    "                    \n",
    "                    except sr.RequestError as e:\n",
    "                        print(\"Could not request results; {0}\".format(e))\n",
    "                \n",
    "                # Creating the PDF file and saving the note\n",
    "                pdf = FPDF()\n",
    "                pdf.add_page()\n",
    "                pdf.set_font(\"Arial\", size=12)\n",
    "                pdf.cell(200, 10, txt=\"NOTE - \" + str(datetime.now()), ln=1, align=\"C\")\n",
    "                pdf.multi_cell(0, 10, txt=note)\n",
    "                pdf.output(\"note_\" + str(datetime.now().strftime(\"%Y-%m-%d_%H-%M-%S\")) + \".pdf\")\n",
    "            \n",
    "        except sr.UnknownValueError:\n",
    "            print(\"Could not understand audio\")\n",
    "        \n",
    "        except sr.RequestError as e:\n",
    "            print(\"Could not request results; {0}\".format(e))"
   ]
  },
  {
   "cell_type": "code",
   "execution_count": null,
   "id": "63dfa0f6",
   "metadata": {},
   "outputs": [],
   "source": []
  }
 ],
 "metadata": {
  "kernelspec": {
   "display_name": "Python 3 (ipykernel)",
   "language": "python",
   "name": "python3"
  },
  "language_info": {
   "codemirror_mode": {
    "name": "ipython",
    "version": 3
   },
   "file_extension": ".py",
   "mimetype": "text/x-python",
   "name": "python",
   "nbconvert_exporter": "python",
   "pygments_lexer": "ipython3",
   "version": "3.10.9"
  }
 },
 "nbformat": 4,
 "nbformat_minor": 5
}
